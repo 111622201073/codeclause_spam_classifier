{
 "cells": [
  {
   "cell_type": "code",
   "execution_count": 42,
   "id": "ccb7afe2",
   "metadata": {},
   "outputs": [],
   "source": [
    "import pandas as pd\n",
    "import matplotlib.pyplot as plt\n"
   ]
  },
  {
   "cell_type": "code",
   "execution_count": 3,
   "id": "88a294a3",
   "metadata": {},
   "outputs": [
    {
     "data": {
      "text/html": [
       "<div>\n",
       "<style scoped>\n",
       "    .dataframe tbody tr th:only-of-type {\n",
       "        vertical-align: middle;\n",
       "    }\n",
       "\n",
       "    .dataframe tbody tr th {\n",
       "        vertical-align: top;\n",
       "    }\n",
       "\n",
       "    .dataframe thead th {\n",
       "        text-align: right;\n",
       "    }\n",
       "</style>\n",
       "<table border=\"1\" class=\"dataframe\">\n",
       "  <thead>\n",
       "    <tr style=\"text-align: right;\">\n",
       "      <th></th>\n",
       "      <th>email</th>\n",
       "      <th>label</th>\n",
       "    </tr>\n",
       "  </thead>\n",
       "  <tbody>\n",
       "    <tr>\n",
       "      <th>0</th>\n",
       "      <td>date wed NUMBER aug NUMBER NUMBER NUMBER NUMB...</td>\n",
       "      <td>0</td>\n",
       "    </tr>\n",
       "    <tr>\n",
       "      <th>1</th>\n",
       "      <td>martin a posted tassos papadopoulos the greek ...</td>\n",
       "      <td>0</td>\n",
       "    </tr>\n",
       "    <tr>\n",
       "      <th>2</th>\n",
       "      <td>man threatens explosion in moscow thursday aug...</td>\n",
       "      <td>0</td>\n",
       "    </tr>\n",
       "    <tr>\n",
       "      <th>3</th>\n",
       "      <td>klez the virus that won t die already the most...</td>\n",
       "      <td>0</td>\n",
       "    </tr>\n",
       "    <tr>\n",
       "      <th>4</th>\n",
       "      <td>in adding cream to spaghetti carbonara which ...</td>\n",
       "      <td>0</td>\n",
       "    </tr>\n",
       "    <tr>\n",
       "      <th>5</th>\n",
       "      <td>i just had to jump in here as carbonara is on...</td>\n",
       "      <td>0</td>\n",
       "    </tr>\n",
       "    <tr>\n",
       "      <th>6</th>\n",
       "      <td>the scotsman NUMBER august NUMBER playboy want...</td>\n",
       "      <td>0</td>\n",
       "    </tr>\n",
       "    <tr>\n",
       "      <th>7</th>\n",
       "      <td>martin adamson wrote isn t it just basically a...</td>\n",
       "      <td>0</td>\n",
       "    </tr>\n",
       "    <tr>\n",
       "      <th>8</th>\n",
       "      <td>the scotsman thu NUMBER aug NUMBER meaningful ...</td>\n",
       "      <td>0</td>\n",
       "    </tr>\n",
       "    <tr>\n",
       "      <th>9</th>\n",
       "      <td>i have been trying to research via sa mirrors ...</td>\n",
       "      <td>0</td>\n",
       "    </tr>\n",
       "    <tr>\n",
       "      <th>10</th>\n",
       "      <td>hello have you seen and discussed this article...</td>\n",
       "      <td>0</td>\n",
       "    </tr>\n",
       "    <tr>\n",
       "      <th>11</th>\n",
       "      <td>yes great minds think alike but even withput e...</td>\n",
       "      <td>0</td>\n",
       "    </tr>\n",
       "    <tr>\n",
       "      <th>12</th>\n",
       "      <td>on mon aug NUMBER NUMBER at NUMBER NUMBER NUMB...</td>\n",
       "      <td>0</td>\n",
       "    </tr>\n",
       "    <tr>\n",
       "      <th>13</th>\n",
       "      <td>from chris garrigues cwg exmh deepeddy com da...</td>\n",
       "      <td>0</td>\n",
       "    </tr>\n",
       "    <tr>\n",
       "      <th>14</th>\n",
       "      <td>spamassassin is hurting democracy owen URL int...</td>\n",
       "      <td>0</td>\n",
       "    </tr>\n",
       "    <tr>\n",
       "      <th>15</th>\n",
       "      <td>hi all apologies for the possible silly questi...</td>\n",
       "      <td>0</td>\n",
       "    </tr>\n",
       "    <tr>\n",
       "      <th>16</th>\n",
       "      <td>in forteana y d mcmann dmcmann b wrote robert...</td>\n",
       "      <td>0</td>\n",
       "    </tr>\n",
       "    <tr>\n",
       "      <th>17</th>\n",
       "      <td>in a nutshell solaris is suns own flavour of u...</td>\n",
       "      <td>0</td>\n",
       "    </tr>\n",
       "    <tr>\n",
       "      <th>18</th>\n",
       "      <td>apols if this has been posted before URL rob y...</td>\n",
       "      <td>0</td>\n",
       "    </tr>\n",
       "    <tr>\n",
       "      <th>19</th>\n",
       "      <td>can someone explain what type of operating sys...</td>\n",
       "      <td>0</td>\n",
       "    </tr>\n",
       "  </tbody>\n",
       "</table>\n",
       "</div>"
      ],
      "text/plain": [
       "                                                email  label\n",
       "0    date wed NUMBER aug NUMBER NUMBER NUMBER NUMB...      0\n",
       "1   martin a posted tassos papadopoulos the greek ...      0\n",
       "2   man threatens explosion in moscow thursday aug...      0\n",
       "3   klez the virus that won t die already the most...      0\n",
       "4    in adding cream to spaghetti carbonara which ...      0\n",
       "5    i just had to jump in here as carbonara is on...      0\n",
       "6   the scotsman NUMBER august NUMBER playboy want...      0\n",
       "7   martin adamson wrote isn t it just basically a...      0\n",
       "8   the scotsman thu NUMBER aug NUMBER meaningful ...      0\n",
       "9   i have been trying to research via sa mirrors ...      0\n",
       "10  hello have you seen and discussed this article...      0\n",
       "11  yes great minds think alike but even withput e...      0\n",
       "12  on mon aug NUMBER NUMBER at NUMBER NUMBER NUMB...      0\n",
       "13   from chris garrigues cwg exmh deepeddy com da...      0\n",
       "14  spamassassin is hurting democracy owen URL int...      0\n",
       "15  hi all apologies for the possible silly questi...      0\n",
       "16   in forteana y d mcmann dmcmann b wrote robert...      0\n",
       "17  in a nutshell solaris is suns own flavour of u...      0\n",
       "18  apols if this has been posted before URL rob y...      0\n",
       "19  can someone explain what type of operating sys...      0"
      ]
     },
     "execution_count": 3,
     "metadata": {},
     "output_type": "execute_result"
    }
   ],
   "source": [
    "spam_classifier=pd.read_csv(\"spam_or_not_spam.csv.zip\")\n",
    "spam_classifier.head(20)"
   ]
  },
  {
   "cell_type": "code",
   "execution_count": 4,
   "id": "06b1c86e",
   "metadata": {},
   "outputs": [
    {
     "data": {
      "text/plain": [
       "(3000, 2)"
      ]
     },
     "execution_count": 4,
     "metadata": {},
     "output_type": "execute_result"
    }
   ],
   "source": [
    "spam_classifier.shape"
   ]
  },
  {
   "cell_type": "code",
   "execution_count": 5,
   "id": "a16686a8",
   "metadata": {},
   "outputs": [
    {
     "data": {
      "text/html": [
       "<div>\n",
       "<style scoped>\n",
       "    .dataframe tbody tr th:only-of-type {\n",
       "        vertical-align: middle;\n",
       "    }\n",
       "\n",
       "    .dataframe tbody tr th {\n",
       "        vertical-align: top;\n",
       "    }\n",
       "\n",
       "    .dataframe thead th {\n",
       "        text-align: right;\n",
       "    }\n",
       "</style>\n",
       "<table border=\"1\" class=\"dataframe\">\n",
       "  <thead>\n",
       "    <tr style=\"text-align: right;\">\n",
       "      <th></th>\n",
       "      <th>label</th>\n",
       "    </tr>\n",
       "  </thead>\n",
       "  <tbody>\n",
       "    <tr>\n",
       "      <th>count</th>\n",
       "      <td>3000.000000</td>\n",
       "    </tr>\n",
       "    <tr>\n",
       "      <th>mean</th>\n",
       "      <td>0.166667</td>\n",
       "    </tr>\n",
       "    <tr>\n",
       "      <th>std</th>\n",
       "      <td>0.372740</td>\n",
       "    </tr>\n",
       "    <tr>\n",
       "      <th>min</th>\n",
       "      <td>0.000000</td>\n",
       "    </tr>\n",
       "    <tr>\n",
       "      <th>25%</th>\n",
       "      <td>0.000000</td>\n",
       "    </tr>\n",
       "    <tr>\n",
       "      <th>50%</th>\n",
       "      <td>0.000000</td>\n",
       "    </tr>\n",
       "    <tr>\n",
       "      <th>75%</th>\n",
       "      <td>0.000000</td>\n",
       "    </tr>\n",
       "    <tr>\n",
       "      <th>max</th>\n",
       "      <td>1.000000</td>\n",
       "    </tr>\n",
       "  </tbody>\n",
       "</table>\n",
       "</div>"
      ],
      "text/plain": [
       "             label\n",
       "count  3000.000000\n",
       "mean      0.166667\n",
       "std       0.372740\n",
       "min       0.000000\n",
       "25%       0.000000\n",
       "50%       0.000000\n",
       "75%       0.000000\n",
       "max       1.000000"
      ]
     },
     "execution_count": 5,
     "metadata": {},
     "output_type": "execute_result"
    }
   ],
   "source": [
    "spam_classifier.describe()"
   ]
  },
  {
   "cell_type": "code",
   "execution_count": 6,
   "id": "e854f21b",
   "metadata": {},
   "outputs": [
    {
     "name": "stdout",
     "output_type": "stream",
     "text": [
      "<class 'pandas.core.frame.DataFrame'>\n",
      "RangeIndex: 3000 entries, 0 to 2999\n",
      "Data columns (total 2 columns):\n",
      " #   Column  Non-Null Count  Dtype \n",
      "---  ------  --------------  ----- \n",
      " 0   email   2999 non-null   object\n",
      " 1   label   3000 non-null   int64 \n",
      "dtypes: int64(1), object(1)\n",
      "memory usage: 47.0+ KB\n"
     ]
    }
   ],
   "source": [
    "spam_classifier.info()"
   ]
  },
  {
   "cell_type": "code",
   "execution_count": 7,
   "id": "049ac0b0",
   "metadata": {},
   "outputs": [
    {
     "data": {
      "text/plain": [
       "url URL date not supplied URL                                                                                                                                                                                                                                                                                                                                                                                                                                                                                                                                                                                                                                                                                                                                                                                                                                                                                                                                                                                                                                                                                                                                                                                                                                                                                                                                                                                                                                                                                                                                                                                                                                                                                                                                                                                                                                                                                                                                                                                                                                                                                                                                                                                                                                                                                                                                                                                                                                                                                                                                                                                                                                                                                                                                                                                                                                                                                                                                                                                                                                                                    10\n",
       "lowest rates available for term life insurance take a moment and fill out our online form to see the low rate you qualify for save up to NUMBER from regular rates smokers accepted URL representing quality nationwide carriers act now to easily remove your address from the list go to URL please allow NUMBER NUMBER hours for removal                                                                                                                                                                                                                                                                                                                                                                                                                                                                                                                                                                                                                                                                                                                                                                                                                                                                                                                                                                                                                                                                                                                                                                                                                                                                                                                                                                                                                                                                                                                                                                                                                                                                                                                                                                                                                                                                                                                                                                                                                                                                                                                                                                                                                                                                                                                                                                                                                                                                                                                                                                                                                                                                                                                                                       5\n",
       " otc newsletter discover tomorrow s winners for immediate release cal bay stock symbol cbyi watch for analyst strong buy recommendations and several advisory newsletters picking cbyi cbyi has filed to be traded on the otcbb share prices historically increase when companies get listed on this larger trading exchange cbyi is trading around NUMBER cents and should skyrocket to NUMBER NUMBER NUMBER NUMBER a share in the near future put cbyi on your watch list acquire a position today reasons to invest in cbyi a profitable company and is on track to beat all earnings estimates one of the fastest growing distributors in environmental safety equipment instruments excellent management team several exclusive contracts impressive client list including the u s air force anheuser busch chevron refining and mitsubishi heavy industries ge energy environmental research rapidly growing industry industry revenues exceed NUMBER million estimates indicate that there could be as much as NUMBER billion from smell technology by the end of NUMBER congratulations our last recommendation to buy orbt at NUMBER NUMBER rallied and is holding steady at NUMBER NUMBER congratulations to all our subscribers that took advantage of this recommendation all removes honored please allow NUMBER days to be removed and send all addresses to hyperlink goneforgood URL certain statements contained in this news release may be forward looking statements within the meaning of the private securities litigation reform act of NUMBER these statements may be identified by such terms as expect believe may will and intend or similar terms we are not a registered investment advisor or a broker dealer this is not an offer to buy or sell securities no recommendation that the securities of the companies profiled should be purchased sold or held by individuals or entities that learn of the profiled companies we were paid NUMBER NUMBER in cash by a third party to publish this report investing in companies profiled is high risk and use of this information is for reading purposes only if anyone decides to act as an investor then it will be that investor s sole risk investors are advised not to invest without the proper advisement from an attorney or a registered financial broker do not rely solely on the information presented do additional independent research to form your own opinion and decision regarding investing in the profiled companies be advised that the purchase of such high risk securities may result in the loss of your entire investment not intended for recipients or residents of ca co ct de id il ia la mo nv nc ok oh pa ri tn va wa wv wi void where prohibited the owners of this publication may already own free trading shares in cbyi and may immediately sell all or a portion of these shares into the open market at or about the time this report is published factual statements are made as of the date stated and are subject to change without notice copyright c NUMBER otc      5\n",
       "url URL date NUMBER NUMBER NUMBERtNUMBER NUMBER NUMBER NUMBER NUMBER it seems like attws will offer a service that ll tell you where your friends or children or spouse or whatever are i haven t seen it announced but from their explanation of rates and charges find friends service will only locate a compatible mobile device with mmode service that NUMBER has granted you permission NUMBER is turned on NUMBER is registered on the at t wireless gsm gprs network and NUMBER has not activated be invisible location services only provide the location                                                                                                                                                                                                                                                                                                                                                                                                                                                                                                                                                                                                                                                                                                                                                                                                                                                                                                                                                                                                                                                                                                                                                                                                                                                                                                                                                                                                                                                                                                                                                                                                                                                                                                                                                                                                                                                                                                                                                                                                                                                                                                                                                                                                                                                                                                                                                                                                                                                                                                                               4\n",
       " hyperlink publish like a professional with digital publishing tools easily create professional ebooks ebrochures ecatalogs resumes newsletters presentations magazines photo albums invitations much much more save money save trees save on printing postage and advertising costs hyperlink digital publishing tools download new free version now limited time offer choose from these display styles NUMBERd page turn slide show sweep wipe embed hyperlinks and link to anywhere online such as your website order page or contact form distribute via floppy cd rom e mail or online take your marketing to the next level for more info samples or a free download click the appropriate link to the right server demand is extremely high for this limited time free software offer please try these links periodically if a site seems slow or unreachable hyperlink website NUMBER hyperlink website NUMBER hyperlink website NUMBER if you wish to be removed from our mailing list please cick the unsubscribe button copyright NUMBER affiliate id NUMBER free version is fully functional with no expiration and has a NUMBER page NUMBER page spread limit                                                                                                                                                                                                                                                                                                                                                                                                                                                                                                                                                                                                                                                                                                                                                                                                                                                                                                                                                                                                                                                                                                                                                                                                                                                                                                                                                                                                                                                                                                                                                                                                                                                                                                                                                                                                                                                                                                                       4\n",
       "                                                                                                                                                                                                                                                                                                                                                                                                                                                                                                                                                                                                                                                                                                                                                                                                                                                                                                                                                                                                                                                                                                                                                                                                                                                                                                                                                                                                                                                                                                                                                                                                                                                                                                                                                                                                                                                                                                                                                                                                                                                                                                                                                                                                                                                                                                                                                                                                                                                                                                                                                                                                                                                                                                                                                                                                                                                                                                                                                                                                                                                                                                 ..\n",
       " from brent welch welch panasas com date wed NUMBER aug NUMBER NUMBER NUMBER NUMBER NUMBER robert elz said mh_sequence also goes and rereads the files mh_sequences and the context file but i m not sure how frequently that one is called in some places i maintain caches of files by checking their modify time but the sequence files are soo small that by the time you stat them to check their date stamp you could just read them again do you really think this is true i added a modify time check thinking that it would make an improvement since we were reading it a lot more times in the new code because we re trying to use the sequences on the other hand the sequences files are probably being read out of cache when that happens anyway even with a small file i d think that the time taken to do a file mtime filename would be worth it my code is in proc mhreadseqs chris chris garrigues URL vircio URL NUMBER congress suite NUMBER austin tx NUMBER NUMBER NUMBER NUMBER NUMBER world war iii the wrong doers vs the evil doers                                                                                                                                                                                                                                                                                                                                                                                                                                                                                                                                                                                                                                                                                                                                                                                                                                                                                                                                                                                                                                                                                                                                                                                                                                                                                                                                                                                                                                                                                                                                                                                                                                                                                                                                                                                                                                                                                                                                                                                                                                  1\n",
       "well i ve used the check the modify time cache trick for files in many places not just exmh so some part of me certainly thinks it is effective however it occurred to me that if we do checkpoint state then aren t we modifying the sequences file for the current folder on every message read perhaps we look at the sequences file more than once per message view just idle speculation we can stick in some time calls to find out how expensive things are someone asked about increasing the time resolution in the exmh log we could make that conditional on some support available in NUMBER NUMBER tcl has had clock seconds like gettimeofday and clock clicks high resolution timer for some time but in NUMBER NUMBER we ve calibrated clock clicks values to microseconds it is still only useful for relative times but each call to exmh_log could emit the microsecond delta since the last log record of course we are measuring all the overhead of taking the log record etc i ll try it out chris garrigues said from brent welch welch URL date wed NUMBER aug NUMBER NUMBER NUMBER NUMBER NUMBER robert elz said mh_sequence also goes and rereads the files mh_sequences and the context file but i m not sure how frequently that one is called in some places i maintain caches of files by checking their modify time but the sequence files are soo small that by the time you stat them to check their date stamp you could just read them again do you really think this is true i added a modify time check thinking that it would make an improvement since we were reading it a lot more times in the new code because we re trying to use the sequences on the other hand the sequences files are probably being read out of cache when that happens anyway even with a small file i d think that the time taken to do a file mtime filename would be worth it my code is in proc mhreadseqs chris chris garrigues URL vircio URL NUMBER congress suite NUMBER austin tx NUMBER NUMBER NUMBER NUMBER NUMBER world war iii the wrong doers vs the evil doers brent welch software architect panasas inc pioneering the world s most scalable and agile storage network URL welch URL _______________________________________________ exmh workers mailing list exmh workers URL URL                                                                                                                                                                                                                                                                                                                                                                                                                                                                                                                                                                                                                                                                                                                                                                           1\n",
       " from brent welch welch panasas com date wed NUMBER aug NUMBER NUMBER NUMBER NUMBER NUMBER well i ve used the check the modify time cache trick for files in many places not just exmh so some part of me certainly thinks it is effective however it occurred to me that if we do checkpoint state then aren t we modifying the sequences file for the current folder on every message read perhaps we look at the sequences file more than once per message view as i d written the code a few months ago we were reading the sequences file first to see what sequences were in it and then once per sequence this happens anywhere that we look at sequences most notably in ftoc_showsequences that seemed to be an obvious lose performancewise but i wanted my abstraction to have a separate call for what sequences are in this folder and what messages are in this sequence one option would have been to add another call to get the data off of disk but i felt that the check the modify time technique would be less error prone i think the biggest gains would be from augmenting ftoc_showsequences to allow a finer specification of what needs to be updated in the ftoc so that the current code would only be run when we really do have to update all sequences for all messages i described these thoughts in an email message yesterday and again if it can wait a few weeks i m willing to do it chris chris garrigues URL vircio URL NUMBER congress suite NUMBER austin tx NUMBER NUMBER NUMBER NUMBER NUMBER world war iii the wrong doers vs the evil doers                                                                                                                                                                                                                                                                                                                                                                                                                                                                                                                                                                                                                                                                                                                                                                                                                                                                                                                                                                                                                                                                                                                                                                                                                                                                                                                                                                                                                                                                                                         1\n",
       " chris garrigues said from brent welch welch URL date wed NUMBER aug NUMBER NUMBER NUMBER NUMBER NUMBER well i ve used the check the modify time cache trick for files in many places not just exmh so some part of me certainly thinks it is effective however it occurred to me that if we do checkpoint state then aren t we modifying the sequences file for the current folder on every message read perhaps we look at the sequences file more than once per message view as i d written the code a few months ago we were reading the sequences file first to see what sequences were in it and then once per sequence this happens anywhere that we look at sequences most notably in ftoc_showsequences that seemed to be an obvious lose performancewise but i wanted my abstraction to have a separate call for what sequences are in this folder and what messages are in this sequence one option would have been to add another call to get the data off of disk but i felt that the check the modify time technique would be less error prone i like the check the modify time technique i think the biggest gains would be from augmenting ftoc_showsequences to allow a finer specification of what needs to be updated in the ftoc so that the current code would only be run when we really do have to update all sequences for all messages i described these thoughts in an email message yesterday and again if it can wait a few weeks i m willing to do it ok i ve yet to dive into the latest round of changes but i plan to i can say i ll make any progress but i may dabble thanks again for all your work in this area generalized sequence support has been on my to do list for about NUMBER years brent welch software architect panasas inc pioneering the world s most scalable and agile storage network URL welch URL _______________________________________________ exmh workers mailing list exmh workers URL URL                                                                                                                                                                                                                                                                                                                                                                                                                                                                                                                                                                                                                                                                                                                                                                                                                                                                                                                                                                                                                                                                                                                                          1\n",
       " hello this is chinese traditional 子 件 NUMBER世 o最有效的宣 鞣绞剑 您想 地NUMBER f人同一 r刻知道您的 v告 幔磕 想方便快捷的宣 髂 的企 i 幔 您想在商 i 中步步 紫 c 幔 您想一次 碛 在商 i客 幔 越 碓蕉嗟恼 查表明 w路直 n 成 未 i n方式的主流 而e mail ⑹蔷w上 i n最常用也是最 用的工具 其特 c v r效高 r格低 emarketer估 美 有NUMBER 的中等 模公司 常 用 子 件 m行 i n活 印 部分 v告媒 w平均回 率比 average response rate ranges NUMBER NUMBER NUMBER 普通横幅广告 banner ads NUMBER NUMBER 普通信件 direct mail NUMBER NUMBER 子 件 email 一 件出售 i全球 件地址 每NUMBER f NUMBERhk i全部NUMBER f NUMBERhk i香港 件地址 每NUMBER f NUMBERhk i香港全部NUMBER f NUMBERhk hyperlink free download i _ 赤 件地址 每NUMBER f NUMBERhk i _ 橙 部NUMBER f NUMBERhk hyperlink free download 件 l送 v告 件代理 l送 每NUMBER f NUMBERhk NUMBER f起 l 蚀_率NUMBER 以上 包周群 l 一周NUMBER f NUMBERhk 一周NUMBER f NUMBERhk 保 c w站日 l 量提升NUMBER以上 包月群 l 一月NUMBER f NUMBERhk 保 c w站日 l 量提升NUMBER以上 件 w NUMBER n套群 l 搜索 w路 l 衍 w NUMBERhk 你自己 碛幸惶淄晟频碾 子 件群 l 搜索 w路 l 严到y 有意者请来信联系 hyperlink yhzxNUMBER URL 二 搜索引擎 缘顷 超值服 眨 特惠 rNUMBER hk y河之星 湍 登 全球NUMBER 英文搜索引擎 mNUMBER 中文搜索引擎 你的 w站享 u全球 e mail地址在各地 的分 盗 香港 NUMBER hyperlink free download the sample _ 场 NUMBER hyperlink free download the sample 全球 NUMBER f y河之星 碛 韧馍 有效的email位址 y料 欤 可以根 客 舻男枰 在指定的地方 域 行 i e等 傩酝斗烹 子 件 v告 如 你想 某地NUMBER f人一天之 都知道你的 a品 y 那麽 v告 件投放就是你最好的解 q方案 它的 r格是所有 髅 r格中最低 但又是最有效的 c遇每 r每刻都等待著你 也 s你正是用了 拥 髅菏侄危 而打垮了所有的 κ帧ｚs快行 影桑 你的企 i 公司立即掌握商 i 髅降拿 v告e mail 是普通 麂n i所不能比 m的 m及付款方式 本公司 氖戮w路 v告多年 宣 髁χ任痪又 第四大 w路 v告商之一 我 有 ｉt的技 g人 t和高速 i的服 障到y 氖麓隧 工作 必 您的企 i提供最迅捷 最有效 最 m意的服 铡 需求客 粽 c 暨 y m 箱 hyperlink yhzxNUMBER URL 硇耪 注明您需要的服 张c m方式 我 快回 湍 港 澳 _地 付款方式 任何 家均可到 地 y行 r NUMBER NUMBER天到 ぃ 需到 地 y行 k理 r english benificiary customer wangjingjing a c bank bank of china mianyang branch a c no NUMBER NUMBER NUMBER NUMBER benificiary s tel no NUMBER NUMBER 中文 φ眨 收 款 人 王晶晶 收款 y行 中 y行 d 分行 NUMBER NUMBER NUMBER NUMBER 收款人 NUMBER NUMBER NUMBER NUMBER天到 ぃ 款到後我 ⒘⒓ 您提供最 m意服 铡 g迎 硇 黼 j m NUMBER NUMBER NUMBER y河之星 w路 y 有限公司 公司地址 中 大 d email hyperlink yhzxNUMBER URL j NUMBER NUMBER NUMBER 公司服 NUMBER福壕w路推 v w站建 o w路 名 w 寄存 功能 得 q空 g w l展等 r x低廉 服 g迎 硇 黼 m                                                                                                                                                                                                                                                                                                                                                                                                                                                                                                                                                                                                                                                                                                                                                                                                                                                                                                                                                                                                                                      1\n",
       "Name: email, Length: 2872, dtype: int64"
      ]
     },
     "execution_count": 7,
     "metadata": {},
     "output_type": "execute_result"
    }
   ],
   "source": [
    "spam_classifier['email'].value_counts()"
   ]
  },
  {
   "cell_type": "code",
   "execution_count": 8,
   "id": "18dde5a7",
   "metadata": {},
   "outputs": [
    {
     "data": {
      "text/plain": [
       "0    2500\n",
       "1     500\n",
       "Name: label, dtype: int64"
      ]
     },
     "execution_count": 8,
     "metadata": {},
     "output_type": "execute_result"
    }
   ],
   "source": [
    "spam_classifier['label'].value_counts()"
   ]
  },
  {
   "cell_type": "code",
   "execution_count": 9,
   "id": "fbe068ee",
   "metadata": {},
   "outputs": [
    {
     "data": {
      "image/png": "[encoded data removed]",
      "text/plain": [
       "<Figure size 100x300 with 1 Axes>"
      ]
     },
     "metadata": {},
     "output_type": "display_data"
    }
   ],
   "source": [
    "plt.figure(figsize=(1,3))\n",
    "plt.bar(list(spam_classifier['label'].value_counts().keys()),list(spam_classifier['label'].value_counts()),color=('r','g'))\n",
    "plt.show()"
   ]
  },
  {
   "cell_type": "code",
   "execution_count": 10,
   "id": "32756865",
   "metadata": {},
   "outputs": [
    {
     "data": {
      "text/plain": [
       "0       False\n",
       "1       False\n",
       "2       False\n",
       "3       False\n",
       "4       False\n",
       "        ...  \n",
       "2995    False\n",
       "2996    False\n",
       "2997    False\n",
       "2998    False\n",
       "2999    False\n",
       "Name: label, Length: 3000, dtype: bool"
      ]
     },
     "execution_count": 10,
     "metadata": {},
     "output_type": "execute_result"
    }
   ],
   "source": [
    "spam_classifier['label'].isnull()"
   ]
  },
  {
   "cell_type": "code",
   "execution_count": 11,
   "id": "504c553e",
   "metadata": {},
   "outputs": [
    {
     "data": {
      "text/plain": [
       "0"
      ]
     },
     "execution_count": 11,
     "metadata": {},
     "output_type": "execute_result"
    }
   ],
   "source": [
    "sum(spam_classifier['label'].isnull())"
   ]
  },
  {
   "cell_type": "code",
   "execution_count": 12,
   "id": "9f55ca5d",
   "metadata": {},
   "outputs": [
    {
     "data": {
      "text/plain": [
       "0       False\n",
       "1       False\n",
       "2       False\n",
       "3       False\n",
       "4       False\n",
       "        ...  \n",
       "2995    False\n",
       "2996    False\n",
       "2997    False\n",
       "2998    False\n",
       "2999    False\n",
       "Name: email, Length: 3000, dtype: bool"
      ]
     },
     "execution_count": 12,
     "metadata": {},
     "output_type": "execute_result"
    }
   ],
   "source": [
    "spam_classifier['email'].isnull()"
   ]
  },
  {
   "cell_type": "code",
   "execution_count": 13,
   "id": "fd7bdba8",
   "metadata": {},
   "outputs": [
    {
     "data": {
      "text/plain": [
       "1"
      ]
     },
     "execution_count": 13,
     "metadata": {},
     "output_type": "execute_result"
    }
   ],
   "source": [
    "sum(spam_classifier['email'].isnull())"
   ]
  },
  {
   "cell_type": "code",
   "execution_count": 14,
   "id": "82d94862",
   "metadata": {},
   "outputs": [],
   "source": [
    "spam_classifier=spam_classifier.dropna()"
   ]
  },
  {
   "cell_type": "code",
   "execution_count": 15,
   "id": "b12d18a1",
   "metadata": {},
   "outputs": [
    {
     "data": {
      "text/plain": [
       "0"
      ]
     },
     "execution_count": 15,
     "metadata": {},
     "output_type": "execute_result"
    }
   ],
   "source": [
    "sum(spam_classifier['email'].isnull())"
   ]
  },
  {
   "cell_type": "code",
   "execution_count": 16,
   "id": "fb0f6149",
   "metadata": {},
   "outputs": [
    {
     "data": {
      "text/plain": [
       "0"
      ]
     },
     "execution_count": 16,
     "metadata": {},
     "output_type": "execute_result"
    }
   ],
   "source": [
    "sum(spam_classifier['label'].isnull())"
   ]
  },
  {
   "cell_type": "code",
   "execution_count": 19,
   "id": "bb10543a",
   "metadata": {},
   "outputs": [],
   "source": [
    "X=spam_classifier['email']\n",
    "Y=spam_classifier['label']"
   ]
  },
  {
   "cell_type": "code",
   "execution_count": 20,
   "id": "f020ef46",
   "metadata": {},
   "outputs": [
    {
     "name": "stdout",
     "output_type": "stream",
     "text": [
      "0       0\n",
      "1       0\n",
      "2       0\n",
      "3       0\n",
      "4       0\n",
      "       ..\n",
      "2995    1\n",
      "2996    1\n",
      "2997    1\n",
      "2998    1\n",
      "2999    1\n",
      "Name: label, Length: 2999, dtype: int64\n"
     ]
    }
   ],
   "source": [
    "print(Y)"
   ]
  },
  {
   "cell_type": "code",
   "execution_count": 21,
   "id": "92d38ceb",
   "metadata": {},
   "outputs": [
    {
     "name": "stdout",
     "output_type": "stream",
     "text": [
      "0        date wed NUMBER aug NUMBER NUMBER NUMBER NUMB...\n",
      "1       martin a posted tassos papadopoulos the greek ...\n",
      "2       man threatens explosion in moscow thursday aug...\n",
      "3       klez the virus that won t die already the most...\n",
      "4        in adding cream to spaghetti carbonara which ...\n",
      "                              ...                        \n",
      "2995     abc s good morning america ranks it the NUMBE...\n",
      "2996     hyperlink hyperlink hyperlink let mortgage le...\n",
      "2997     thank you for shopping with us gifts for all ...\n",
      "2998     the famous ebay marketing e course learn to s...\n",
      "2999     hello this is chinese traditional 子 件 NUMBER世...\n",
      "Name: email, Length: 2999, dtype: object\n"
     ]
    }
   ],
   "source": [
    "print(X)"
   ]
  },
  {
   "cell_type": "code",
   "execution_count": 49,
   "id": "8ca4a2bc",
   "metadata": {},
   "outputs": [],
   "source": [
    "\n",
    "from sklearn.model_selection import train_test_split\n",
    "X_train, X_test, Y_train, Y_test = train_test_split(X, Y, test_size = 0.2, random_state = 3)\n"
   ]
  },
  {
   "cell_type": "code",
   "execution_count": 61,
   "id": "9eb0290f",
   "metadata": {},
   "outputs": [
    {
     "name": "stdout",
     "output_type": "stream",
     "text": [
      "  (0, 6850)\t1\n",
      "  (0, 32219)\t1\n",
      "  (0, 19450)\t42\n",
      "  (0, 2223)\t1\n",
      "  (0, 11120)\t4\n",
      "  (0, 4906)\t1\n",
      "  (0, 11393)\t1\n",
      "  (0, 6675)\t1\n",
      "  (0, 6853)\t1\n",
      "  (0, 19686)\t1\n",
      "  (0, 7065)\t2\n",
      "  (0, 5424)\t2\n",
      "  (0, 17702)\t1\n",
      "  (0, 13507)\t1\n",
      "  (0, 29719)\t1\n",
      "  (0, 31670)\t1\n",
      "  (0, 4236)\t1\n",
      "  (0, 24913)\t1\n",
      "  (0, 29481)\t3\n",
      "  (0, 9448)\t2\n",
      "  (0, 10817)\t1\n",
      "  (0, 17528)\t1\n",
      "  (0, 14711)\t1\n",
      "  (0, 14633)\t4\n",
      "  (0, 31530)\t1\n",
      "  :\t:\n",
      "  (2998, 15852)\t1\n",
      "  (2998, 2912)\t2\n",
      "  (2998, 31975)\t1\n",
      "  (2998, 17788)\t1\n",
      "  (2998, 33614)\t1\n",
      "  (2998, 33602)\t1\n",
      "  (2998, 33745)\t1\n",
      "  (2998, 33716)\t1\n",
      "  (2998, 33656)\t1\n",
      "  (2998, 33717)\t1\n",
      "  (2998, 33735)\t1\n",
      "  (2998, 33604)\t1\n",
      "  (2998, 33700)\t1\n",
      "  (2998, 18681)\t1\n",
      "  (2998, 12318)\t2\n",
      "  (2998, 33728)\t1\n",
      "  (2998, 33649)\t1\n",
      "  (2998, 33650)\t1\n",
      "  (2998, 20504)\t1\n",
      "  (2998, 32850)\t1\n",
      "  (2998, 33685)\t1\n",
      "  (2998, 33658)\t1\n",
      "  (2998, 23980)\t1\n",
      "  (2998, 16960)\t1\n",
      "  (2998, 33080)\t1\n"
     ]
    }
   ],
   "source": [
    "from sklearn.feature_extraction.text import CountVectorizer\n",
    "feature_extract=CountVectorizer()\n",
    "count=feature_extract.fit_transform(spam_classifier['email'].values)\n",
    "print(count)"
   ]
  },
  {
   "cell_type": "code",
   "execution_count": 60,
   "id": "0778dd33",
   "metadata": {},
   "outputs": [
    {
     "name": "stdout",
     "output_type": "stream",
     "text": [
      "[0 0 0 ... 1 1 1]\n"
     ]
    }
   ],
   "source": [
    "labels=spam_classifier['label'].values\n",
    "print(labels)"
   ]
  },
  {
   "cell_type": "code",
   "execution_count": 62,
   "id": "45aab94c",
   "metadata": {},
   "outputs": [],
   "source": [
    "\n",
    "from sklearn.naive_bayes import MultinomialNB\n"
   ]
  },
  {
   "cell_type": "code",
   "execution_count": 63,
   "id": "56db043a",
   "metadata": {},
   "outputs": [
    {
     "data": {
      "text/html": [
       "<style>#sk-container-id-1 {color: black;}#sk-container-id-1 pre{padding: 0;}#sk-container-id-1 div.sk-toggleable {background-color: white;}#sk-container-id-1 label.sk-toggleable__label {cursor: pointer;display: block;width: 100%;margin-bottom: 0;padding: 0.3em;box-sizing: border-box;text-align: center;}#sk-container-id-1 label.sk-toggleable__label-arrow:before {content: \"▸\";float: left;margin-right: 0.25em;color: #696969;}#sk-container-id-1 label.sk-toggleable__label-arrow:hover:before {color: black;}#sk-container-id-1 div.sk-estimator:hover label.sk-toggleable__label-arrow:before {color: black;}#sk-container-id-1 div.sk-toggleable__content {max-height: 0;max-width: 0;overflow: hidden;text-align: left;background-color: #f0f8ff;}#sk-container-id-1 div.sk-toggleable__content pre {margin: 0.2em;color: black;border-radius: 0.25em;background-color: #f0f8ff;}#sk-container-id-1 input.sk-toggleable__control:checked~div.sk-toggleable__content {max-height: 200px;max-width: 100%;overflow: auto;}#sk-container-id-1 input.sk-toggleable__control:checked~label.sk-toggleable__label-arrow:before {content: \"▾\";}#sk-container-id-1 div.sk-estimator input.sk-toggleable__control:checked~label.sk-toggleable__label {background-color: #d4ebff;}#sk-container-id-1 div.sk-label input.sk-toggleable__control:checked~label.sk-toggleable__label {background-color: #d4ebff;}#sk-container-id-1 input.sk-hidden--visually {border: 0;clip: rect(1px 1px 1px 1px);clip: rect(1px, 1px, 1px, 1px);height: 1px;margin: -1px;overflow: hidden;padding: 0;position: absolute;width: 1px;}#sk-container-id-1 div.sk-estimator {font-family: monospace;background-color: #f0f8ff;border: 1px dotted black;border-radius: 0.25em;box-sizing: border-box;margin-bottom: 0.5em;}#sk-container-id-1 div.sk-estimator:hover {background-color: #d4ebff;}#sk-container-id-1 div.sk-parallel-item::after {content: \"\";width: 100%;border-bottom: 1px solid gray;flex-grow: 1;}#sk-container-id-1 div.sk-label:hover label.sk-toggleable__label {background-color: #d4ebff;}#sk-container-id-1 div.sk-serial::before {content: \"\";position: absolute;border-left: 1px solid gray;box-sizing: border-box;top: 0;bottom: 0;left: 50%;z-index: 0;}#sk-container-id-1 div.sk-serial {display: flex;flex-direction: column;align-items: center;background-color: white;padding-right: 0.2em;padding-left: 0.2em;position: relative;}#sk-container-id-1 div.sk-item {position: relative;z-index: 1;}#sk-container-id-1 div.sk-parallel {display: flex;align-items: stretch;justify-content: center;background-color: white;position: relative;}#sk-container-id-1 div.sk-item::before, #sk-container-id-1 div.sk-parallel-item::before {content: \"\";position: absolute;border-left: 1px solid gray;box-sizing: border-box;top: 0;bottom: 0;left: 50%;z-index: -1;}#sk-container-id-1 div.sk-parallel-item {display: flex;flex-direction: column;z-index: 1;position: relative;background-color: white;}#sk-container-id-1 div.sk-parallel-item:first-child::after {align-self: flex-end;width: 50%;}#sk-container-id-1 div.sk-parallel-item:last-child::after {align-self: flex-start;width: 50%;}#sk-container-id-1 div.sk-parallel-item:only-child::after {width: 0;}#sk-container-id-1 div.sk-dashed-wrapped {border: 1px dashed gray;margin: 0 0.4em 0.5em 0.4em;box-sizing: border-box;padding-bottom: 0.4em;background-color: white;}#sk-container-id-1 div.sk-label label {font-family: monospace;font-weight: bold;display: inline-block;line-height: 1.2em;}#sk-container-id-1 div.sk-label-container {text-align: center;}#sk-container-id-1 div.sk-container {/* jupyter's `normalize.less` sets `[hidden] { display: none; }` but bootstrap.min.css set `[hidden] { display: none !important; }` so we also need the `!important` here to be able to override the default hidden behavior on the sphinx rendered scikit-learn.org. See: https://github.com/scikit-learn/scikit-learn/issues/21755 */display: inline-block !important;position: relative;}#sk-container-id-1 div.sk-text-repr-fallback {display: none;}</style><div id=\"sk-container-id-1\" class=\"sk-top-container\"><div class=\"sk-text-repr-fallback\"><pre>MultinomialNB()</pre><b>In a Jupyter environment, please rerun this cell to show the HTML representation or trust the notebook. <br />On GitHub, the HTML representation is unable to render, please try loading this page with nbviewer.org.</b></div><div class=\"sk-container\" hidden><div class=\"sk-item\"><div class=\"sk-estimator sk-toggleable\"><input class=\"sk-toggleable__control sk-hidden--visually\" id=\"sk-estimator-id-1\" type=\"checkbox\" checked><label for=\"sk-estimator-id-1\" class=\"sk-toggleable__label sk-toggleable__label-arrow\">MultinomialNB</label><div class=\"sk-toggleable__content\"><pre>MultinomialNB()</pre></div></div></div></div></div>"
      ],
      "text/plain": [
       "MultinomialNB()"
      ]
     },
     "execution_count": 63,
     "metadata": {},
     "output_type": "execute_result"
    }
   ],
   "source": [
    "classify=MultinomialNB()\n",
    "classify.fit(count,labels)\n"
   ]
  },
  {
   "cell_type": "code",
   "execution_count": 70,
   "id": "3da93814",
   "metadata": {},
   "outputs": [
    {
     "name": "stdout",
     "output_type": "stream",
     "text": [
      "1283    matthias saou wrote once upon a time roi wrote...\n",
      "250     hello all firstly i d like to thank all of you...\n",
      "2153    url URL date NUMBER NUMBER NUMBERtNUMBER NUMBE...\n",
      "2239    url URL date NUMBER NUMBER NUMBERtNUMBER NUMBE...\n",
      "632     at NUMBER NUMBER am NUMBER NUMBER NUMBER NUMBE...\n",
      "                              ...                        \n",
      "1831    url URL date mon NUMBER sep NUMBER NUMBER NUMB...\n",
      "319     thx for the thoughts gentlemen yes as someone ...\n",
      "515     in addition one bit of anecdotal evidence from...\n",
      "1785    use perl daily newsletter in this issue the pe...\n",
      "510     on sun NUMBER sep NUMBER cdale wrote i agree w...\n",
      "Name: email, Length: 600, dtype: object\n"
     ]
    }
   ],
   "source": [
    "print(X_test)"
   ]
  },
  {
   "cell_type": "code",
   "execution_count": 65,
   "id": "c1a4b365",
   "metadata": {},
   "outputs": [
    {
     "name": "stdout",
     "output_type": "stream",
     "text": [
      "1283    0\n",
      "250     0\n",
      "2153    0\n",
      "2239    0\n",
      "632     0\n",
      "       ..\n",
      "1831    0\n",
      "319     0\n",
      "515     0\n",
      "1785    0\n",
      "510     0\n",
      "Name: label, Length: 600, dtype: int64\n"
     ]
    }
   ],
   "source": [
    "print(Y_test)"
   ]
  },
  {
   "cell_type": "code",
   "execution_count": 80,
   "id": "3db2639d",
   "metadata": {},
   "outputs": [
    {
     "name": "stdout",
     "output_type": "stream",
     "text": [
      "800     0\n",
      "1888    0\n",
      "2989    1\n",
      "2105    0\n",
      "2112    0\n",
      "       ..\n",
      "2304    0\n",
      "968     0\n",
      "1667    0\n",
      "1688    0\n",
      "1898    0\n",
      "Name: label, Length: 2399, dtype: int64\n"
     ]
    }
   ],
   "source": [
    "print(Y_train)"
   ]
  },
  {
   "cell_type": "code",
   "execution_count": 82,
   "id": "8eb64214",
   "metadata": {},
   "outputs": [
    {
     "name": "stdout",
     "output_type": "stream",
     "text": [
      "800     on saturday september NUMBER NUMBER at NUMBER ...\n",
      "1888    url URL date not supplied a new addition to th...\n",
      "2989     social on january NUMBERst NUMBER the europea...\n",
      "2105                       url URL date not supplied URL \n",
      "2112    url URL date NUMBER NUMBER NUMBERtNUMBER NUMBE...\n",
      "                              ...                        \n",
      "2304    url URL date NUMBER NUMBER NUMBERtNUMBER NUMBE...\n",
      "968      chris garrigues said from brent welch welch U...\n",
      "1667     guido a program that acts both as a pop clien...\n",
      "1688     i actually like neale s x spam disposition he...\n",
      "1898    url URL date NUMBER NUMBER NUMBERtNUMBER NUMBE...\n",
      "Name: email, Length: 2399, dtype: object\n"
     ]
    }
   ],
   "source": [
    "print(X_train)"
   ]
  },
  {
   "cell_type": "code",
   "execution_count": 85,
   "id": "d946b7da",
   "metadata": {},
   "outputs": [
    {
     "name": "stdout",
     "output_type": "stream",
     "text": [
      "  (0, 691)\t1\n",
      "  (0, 1116)\t1\n",
      "  (0, 1337)\t1\n",
      "  (0, 1353)\t1\n",
      "  (0, 1392)\t3\n",
      "  (0, 1824)\t1\n",
      "  (0, 1940)\t2\n",
      "  (0, 2110)\t1\n",
      "  (0, 2843)\t1\n",
      "  (0, 4327)\t1\n",
      "  (0, 5529)\t1\n",
      "  (0, 6484)\t1\n",
      "  (0, 8522)\t1\n",
      "  (0, 8623)\t1\n",
      "  (0, 8942)\t1\n",
      "  (0, 10134)\t1\n",
      "  (0, 10169)\t1\n",
      "  (0, 10252)\t1\n",
      "  (0, 10817)\t2\n",
      "  (0, 10914)\t1\n",
      "  (0, 11038)\t1\n",
      "  (0, 11120)\t2\n",
      "  (0, 11164)\t2\n",
      "  (0, 12007)\t2\n",
      "  (0, 12058)\t1\n",
      "  :\t:\n",
      "  (0, 22401)\t1\n",
      "  (0, 22792)\t1\n",
      "  (0, 23099)\t1\n",
      "  (0, 25072)\t1\n",
      "  (0, 25865)\t1\n",
      "  (0, 26249)\t1\n",
      "  (0, 26251)\t1\n",
      "  (0, 26444)\t1\n",
      "  (0, 27387)\t1\n",
      "  (0, 27778)\t1\n",
      "  (0, 28369)\t1\n",
      "  (0, 29052)\t1\n",
      "  (0, 29381)\t1\n",
      "  (0, 29388)\t5\n",
      "  (0, 29481)\t2\n",
      "  (0, 29756)\t3\n",
      "  (0, 30986)\t2\n",
      "  (0, 31167)\t3\n",
      "  (0, 31188)\t1\n",
      "  (0, 32031)\t1\n",
      "  (0, 32185)\t1\n",
      "  (0, 32259)\t1\n",
      "  (0, 32414)\t1\n",
      "  (0, 33087)\t2\n",
      "  (0, 33278)\t1\n"
     ]
    }
   ],
   "source": [
    "given_input=[\"martin a posted tassos papadopoulos the greek sculptor behind the plan judged that the limestone of mount kerdylio NUMBER miles east of salonika and not far from the mount athos monastic community was ideal for the patriotic sculpture as well as alexander s granite features NUMBER ft high and NUMBER ft wide a museum a restored amphitheatre and car park for admiring crowds are planned so is this mountain limestone or granite if it s limestone it ll weather pretty fast yahoo groups sponsor NUMBER dvds free s p join now URL to unsubscribe from this group send an email to forteana unsubscribe URL your use of yahoo groups is subject to URL \"]\n",
    "excount=feature_extract.transform(given_input)\n",
    "print(excount)"
   ]
  },
  {
   "cell_type": "code",
   "execution_count": 87,
   "id": "1639bd6b",
   "metadata": {},
   "outputs": [
    {
     "name": "stdout",
     "output_type": "stream",
     "text": [
      "[0]\n"
     ]
    }
   ],
   "source": [
    "prediction=classify.predict(excount)\n",
    "print(prediction)"
   ]
  },
  {
   "cell_type": "code",
   "execution_count": 90,
   "id": "bd2f4819",
   "metadata": {},
   "outputs": [
    {
     "name": "stdout",
     "output_type": "stream",
     "text": [
      "spam\n"
     ]
    }
   ],
   "source": [
    "if(prediction==0):\n",
    "    print(\"spam\")\n",
    "else:\n",
    "    print(\"Not spam\")"
   ]
  },
  {
   "cell_type": "code",
   "execution_count": 105,
   "id": "3b909b42",
   "metadata": {},
   "outputs": [
    {
     "name": "stdout",
     "output_type": "stream",
     "text": [
      "  (0, 347)\t1\n",
      "  (0, 537)\t1\n",
      "  (0, 861)\t1\n",
      "  (0, 1145)\t1\n",
      "  (0, 1196)\t1\n",
      "  (0, 1217)\t2\n",
      "  (0, 1255)\t2\n",
      "  (0, 1392)\t17\n",
      "  (0, 1824)\t2\n",
      "  (0, 1885)\t1\n",
      "  (0, 1940)\t2\n",
      "  (0, 2032)\t3\n",
      "  (0, 2093)\t1\n",
      "  (0, 2562)\t1\n",
      "  (0, 2648)\t1\n",
      "  (0, 2741)\t1\n",
      "  (0, 2776)\t1\n",
      "  (0, 2830)\t1\n",
      "  (0, 2848)\t1\n",
      "  (0, 2976)\t1\n",
      "  (0, 2983)\t1\n",
      "  (0, 3076)\t1\n",
      "  (0, 4017)\t2\n",
      "  (0, 4028)\t1\n",
      "  (0, 4045)\t1\n",
      "  :\t:\n",
      "  (0, 29620)\t1\n",
      "  (0, 29756)\t16\n",
      "  (0, 29979)\t1\n",
      "  (0, 30137)\t1\n",
      "  (0, 30269)\t1\n",
      "  (0, 30422)\t1\n",
      "  (0, 30849)\t1\n",
      "  (0, 31167)\t1\n",
      "  (0, 31175)\t4\n",
      "  (0, 31979)\t5\n",
      "  (0, 32031)\t2\n",
      "  (0, 32169)\t2\n",
      "  (0, 32310)\t1\n",
      "  (0, 32325)\t1\n",
      "  (0, 32328)\t3\n",
      "  (0, 32338)\t2\n",
      "  (0, 32342)\t1\n",
      "  (0, 32386)\t1\n",
      "  (0, 32422)\t1\n",
      "  (0, 32450)\t5\n",
      "  (0, 32553)\t3\n",
      "  (0, 32766)\t1\n",
      "  (0, 33265)\t10\n",
      "  (0, 33278)\t4\n",
      "  (0, 33356)\t1\n"
     ]
    }
   ],
   "source": [
    "given_input1=[\"dear friend i am mrs sese seko widow of late president mobutu sese seko of zaire now known as democratic republic of congo drc i am moved to write you this letter this was in confidence considering my presentcircumstance and situation i escaped along with my husband and two of our sons george kongolo and basher out of democratic republic of congo drc to abidjan cote d ivoire where my family and i settled while we later moved to settled in morroco where my husband later died of cancer disease however due to this situation we decided to changed most of my husband s billions of dollars deposited in swiss bank and other countries into other forms of money coded for safe purpose because the new head of state of dr mr laurent kabila has made arrangement with the swiss government and other european countries to freeze all my late husband s treasures deposited in some european countries hence my children and i decided laying low in africa to study the situation till when things gets better like now that president kabila is dead and the son taking over joseph kabila one of my late husband s chateaux in southern france was confiscated by the french government and as such i had to change my identity so that my investment will not be traced and confiscated i have deposited the sum eighteen million united state dollars us NUMBER NUMBER NUMBER NUMBER with a security company for safekeeping the funds are security coded to prevent them from knowing the content what i want you to do is to indicate your interest that you will assist us by receiving the money on our behalf acknowledge this message so that i can introduce you to my son kongolo who has the out modalities for the claim of the said funds i want you to assist in investing this money but i will not want my identity revealed i will also want to buy properties and stock in multi national companies and to engage in other safe and non speculative investments may i at this point emphasise the high level of confidentiality which this business demands and hope you will not betray the trust and confidence which i repose in you in conclusion if you want to assist us my son shall put you in the picture of the business tell you where the funds are currently being maintained and also discuss other modalities including remunerationfor your services for this reason kindly furnish us your contact information that is your personal telephone and fax number for confidential URL regards mrs m sese seko \" ]\n",
    "\n",
    "excount=feature_extract.transform(given_input1)\n",
    "print(excount)\n",
    "\n"
   ]
  },
  {
   "cell_type": "code",
   "execution_count": 107,
   "id": "37037307",
   "metadata": {},
   "outputs": [
    {
     "name": "stdout",
     "output_type": "stream",
     "text": [
      "[1]\n",
      "Not spam\n"
     ]
    }
   ],
   "source": [
    "prediction=classify.predict(excount)\n",
    "print(prediction)\n",
    "\n",
    "if(prediction==0):\n",
    "    print(\"spam\")\n",
    "else:\n",
    "    print(\"Not spam\")\n"
   ]
  }
 ],
 "metadata": {
  "kernelspec": {
   "display_name": "Python 3 (ipykernel)",
   "language": "python",
   "name": "python3"
  },
  "language_info": {
   "codemirror_mode": {
    "name": "ipython",
    "version": 3
   },
   "file_extension": ".py",
   "mimetype": "text/x-python",
   "name": "python",
   "nbconvert_exporter": "python",
   "pygments_lexer": "ipython3",
   "version": "3.11.4"
  }
 },
 "nbformat": 4,
 "nbformat_minor": 5
}
